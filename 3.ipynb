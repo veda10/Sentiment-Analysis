{
  "nbformat": 4,
  "nbformat_minor": 0,
  "metadata": {
    "colab": {
      "name": "v_third.ipynb",
      "version": "0.3.2",
      "provenance": []
    },
    "kernelspec": {
      "name": "python3",
      "display_name": "Python 3"
    },
    "accelerator": "GPU"
  },
  "cells": [
    {
      "metadata": {
        "id": "h9JbqNd-ANV1",
        "colab_type": "code",
        "colab": {}
      },
      "cell_type": "code",
      "source": [
        "import tensorflow as tf\n",
        "from tensorflow.contrib import rnn\n",
        "import matplotlib.pyplot as plt\n",
        "from sklearn.utils import shuffle\n",
        "import numpy as np\n",
        "import pandas as pd\n",
        "from string import punctuation as punc\n",
        "from collections import Counter"
      ],
      "execution_count": 0,
      "outputs": []
    },
    {
      "metadata": {
        "id": "Yfg4jhU6AYt6",
        "colab_type": "code",
        "outputId": "af01010d-5fdb-428a-c6b8-87d397031799",
        "colab": {
          "base_uri": "https://localhost:8080/",
          "height": 34
        }
      },
      "cell_type": "code",
      "source": [
        "from google.colab import drive\n",
        "drive.mount('/content/drive')"
      ],
      "execution_count": 0,
      "outputs": [
        {
          "output_type": "stream",
          "text": [
            "Drive already mounted at /content/drive; to attempt to forcibly remount, call drive.mount(\"/content/drive\", force_remount=True).\n"
          ],
          "name": "stdout"
        }
      ]
    },
    {
      "metadata": {
        "id": "GdA31QBjAvIn",
        "colab_type": "code",
        "outputId": "8e2e9709-8a9e-4bce-9861-0ee580dac4d0",
        "colab": {
          "base_uri": "https://localhost:8080/",
          "height": 34
        }
      },
      "cell_type": "code",
      "source": [
        "data=pd.read_csv('drive/My Drive/A1-Q3_Dataset/mrdata.tsv',delimiter='\\t',encoding='utf-8')\n",
        "data.head()\n",
        "print(data.shape)"
      ],
      "execution_count": 0,
      "outputs": [
        {
          "output_type": "stream",
          "text": [
            "(156060, 4)\n"
          ],
          "name": "stdout"
        }
      ]
    },
    {
      "metadata": {
        "id": "tqkAZ0VhA2NN",
        "colab_type": "code",
        "outputId": "011613e8-b57e-45a3-cbaf-f3f81e65d407",
        "colab": {
          "base_uri": "https://localhost:8080/",
          "height": 122
        }
      },
      "cell_type": "code",
      "source": [
        "val = [True] * len(data)\n",
        "Modified_data = data[val]\n",
        "Modified_data = Modified_data.drop(columns=\"SentenceId\")\n",
        "Modified_data = Modified_data.drop(columns=\"PhraseId\")\n",
        "Modified_data = shuffle(Modified_data)\n",
        "print(Modified_data.head())"
      ],
      "execution_count": 0,
      "outputs": [
        {
          "output_type": "stream",
          "text": [
            "                                                   Phrase  Sentiment\n",
            "93831                   with an important message to tell          3\n",
            "107302  by taking your expectations and twisting them ...          3\n",
            "89266                                          the places          2\n",
            "66099                                        Elvis person          2\n",
            "48096                              your own precious life          3\n"
          ],
          "name": "stdout"
        }
      ]
    },
    {
      "metadata": {
        "id": "gBaGd7b5BUCP",
        "colab_type": "code",
        "outputId": "ec840851-50d4-4d7f-b37d-b40229b84ef8",
        "colab": {
          "base_uri": "https://localhost:8080/",
          "height": 122
        }
      },
      "cell_type": "code",
      "source": [
        "class_labels = Modified_data.iloc[:, 1].values\n",
        "content = Modified_data.iloc[:, 0].values\n",
        "print(class_labels)\n",
        "print(content)"
      ],
      "execution_count": 0,
      "outputs": [
        {
          "output_type": "stream",
          "text": [
            "[3 3 2 ... 0 2 3]\n",
            "['with an important message to tell'\n",
            " 'by taking your expectations and twisting them just a bit' 'the places'\n",
            " ...\n",
            " 'until its absurd , contrived , overblown , and entirely implausible finale'\n",
            " 'few decades' 'draws us in long']\n"
          ],
          "name": "stdout"
        }
      ]
    },
    {
      "metadata": {
        "id": "UyHVrdFhB0RR",
        "colab_type": "code",
        "colab": {}
      },
      "cell_type": "code",
      "source": [
        "data_changed = []\n",
        "\n",
        "for i in content:\n",
        "    i_cool_one = ''.join([i for i in i if i not in punc])\n",
        "    data_changed.append(i_cool_one)\n",
        "    \n",
        "words = []\n",
        "word_set = []\n",
        "for i in data_changed:\n",
        "    words.append(i.lower().split())\n",
        "    for word in i.split():\n",
        "        word_set.append(word.lower())"
      ],
      "execution_count": 0,
      "outputs": []
    },
    {
      "metadata": {
        "id": "ts5aHIcLCYtj",
        "colab_type": "code",
        "outputId": "f1a9ce43-0b10-47a3-88b3-17081838060b",
        "colab": {
          "base_uri": "https://localhost:8080/",
          "height": 34
        }
      },
      "cell_type": "code",
      "source": [
        "counter = Counter(word_set)\n",
        "vocab = sorted(counter, key=counter.get, reverse=True)\n",
        "\n",
        "dic_index = {word: i for i, word in enumerate(vocab, 1)}\n",
        "\n",
        "cont_index = []\n",
        "for i in words:\n",
        "    cont_index.append([dic_index[word] for word in i])\n",
        "    \n",
        "print(i)"
      ],
      "execution_count": 0,
      "outputs": [
        {
          "output_type": "stream",
          "text": [
            "['draws', 'us', 'in', 'long']\n"
          ],
          "name": "stdout"
        }
      ]
    },
    {
      "metadata": {
        "id": "LmWuamsjDDuc",
        "colab_type": "code",
        "outputId": "68b21b8d-bd6c-419a-a904-7aaa76eb7fe1",
        "colab": {
          "base_uri": "https://localhost:8080/",
          "height": 140
        }
      },
      "cell_type": "code",
      "source": [
        "length_consider = 17\n",
        "\n",
        "content_mod = np.zeros((len(cont_index), length_consider), dtype=int)\n",
        "for i, x in enumerate(cont_index):\n",
        "    if(len(x)!=0):\n",
        "        content_mod[i, -len(x):] = np.array(x)[:length_consider]\n",
        "        \n",
        "print(content_mod)"
      ],
      "execution_count": 0,
      "outputs": [
        {
          "output_type": "stream",
          "text": [
            "[[   0    0    0 ...  443    5  540]\n",
            " [   0    0    0 ...   61    2  248]\n",
            " [   0    0    0 ...    0    1  762]\n",
            " ...\n",
            " [   0    0    0 ...  563 2136 1578]\n",
            " [   0    0    0 ...    0  128 1092]\n",
            " [   0    0    0 ...   86    7  129]]\n"
          ],
          "name": "stdout"
        }
      ]
    },
    {
      "metadata": {
        "id": "6jwRZcV8DOpT",
        "colab_type": "code",
        "outputId": "5c1a486d-6bbc-4748-926f-ea35bcd906b1",
        "colab": {
          "base_uri": "https://localhost:8080/",
          "height": 34
        }
      },
      "cell_type": "code",
      "source": [
        "i,j = content_mod.shape\n",
        "print(i,j)"
      ],
      "execution_count": 0,
      "outputs": [
        {
          "output_type": "stream",
          "text": [
            "156060 17\n"
          ],
          "name": "stdout"
        }
      ]
    },
    {
      "metadata": {
        "id": "jcLZVFiwDS9S",
        "colab_type": "code",
        "outputId": "d82eeda7-5b0a-42a0-a8e0-c9ee8ffbade8",
        "colab": {
          "base_uri": "https://localhost:8080/",
          "height": 263
        }
      },
      "cell_type": "code",
      "source": [
        "split = i * 0.8\n",
        "split = int(split)\n",
        "\n",
        "features_train = content_mod[:split]\n",
        "train_labels = class_labels[:split]\n",
        "\n",
        "features_test = content_mod[split:]\n",
        "test_labels = class_labels[split:]\n",
        "\n",
        "print(features_train)\n",
        "print(features_test)"
      ],
      "execution_count": 0,
      "outputs": [
        {
          "output_type": "stream",
          "text": [
            "[[    0     0     0 ...   443     5   540]\n",
            " [    0     0     0 ...    61     2   248]\n",
            " [    0     0     0 ...     0     1   762]\n",
            " ...\n",
            " [    0     0     0 ...     0     0 10901]\n",
            " [    0     0     0 ...     0     3  5531]\n",
            " [    0     0     0 ...  1366    64  5690]]\n",
            "[[   0    0    0 ...    0 1309 2073]\n",
            " [   0    0    0 ...    1   17  168]\n",
            " [   0    0    0 ...    0 9988    6]\n",
            " ...\n",
            " [   0    0    0 ...  563 2136 1578]\n",
            " [   0    0    0 ...    0  128 1092]\n",
            " [   0    0    0 ...   86    7  129]]\n"
          ],
          "name": "stdout"
        }
      ]
    },
    {
      "metadata": {
        "id": "4rM9etgGEmZf",
        "colab_type": "code",
        "outputId": "8fee8049-5b31-417a-de14-66304eab2a89",
        "colab": {
          "base_uri": "https://localhost:8080/",
          "height": 34
        }
      },
      "cell_type": "code",
      "source": [
        "epochs = 10\n",
        "len_batch = 1000 \n",
        "word_count = len(dic_index) + 1 \n",
        "eeta = 0.001 \n",
        "number_of_layers = 3 \n",
        "rate_of_drop = 0.8 \n",
        "embed_size = 300 \n",
        "number_of_hidLayer = 512\n",
        "\n",
        "tf.reset_default_graph()\n",
        "\n",
        "inp = tf.placeholder(tf.int32, [None, None], name='inp')\n",
        "label = tf.placeholder(tf.int32, [None, None], name='label')\n",
        "embeding = tf.Variable(tf.random_uniform((word_count, embed_size), -1, 1))\n",
        "embed = tf.nn.embedding_lookup(embeding, inp)\n",
        "\n",
        "print(embeding.shape)"
      ],
      "execution_count": 0,
      "outputs": [
        {
          "output_type": "stream",
          "text": [
            "(16404, 300)\n"
          ],
          "name": "stdout"
        }
      ]
    },
    {
      "metadata": {
        "id": "PlpjJxNlF1-3",
        "colab_type": "code",
        "outputId": "331d9c69-cbaf-42af-9699-4edb9e684c9a",
        "colab": {
          "base_uri": "https://localhost:8080/",
          "height": 34
        }
      },
      "cell_type": "code",
      "source": [
        "hidLayer = tf.contrib.rnn.BasicLSTMCell(number_of_hidLayer)\n",
        "hidLayer = tf.contrib.rnn.DropoutWrapper(hidLayer, rate_of_drop)\n",
        "\n",
        "cell = tf.contrib.rnn.MultiRNNCell([hidLayer] * number_of_layers)\n",
        "state1 = cell.zero_state(len_batch, tf.float32)\n",
        "rnn_output, rnn_state = tf.nn.dynamic_rnn(cell, embed, initial_state=state1)\n",
        "print(hidLayer)"
      ],
      "execution_count": 0,
      "outputs": [
        {
          "output_type": "stream",
          "text": [
            "<tensorflow.python.ops.rnn_cell_impl.DropoutWrapper object at 0x7f6698eada20>\n"
          ],
          "name": "stdout"
        }
      ]
    },
    {
      "metadata": {
        "id": "X-AhTwWjF6a_",
        "colab_type": "code",
        "colab": {}
      },
      "cell_type": "code",
      "source": [
        "use_to_predict = tf.layers.dense(rnn_output[:, -1], 1, activation=tf.sigmoid)\n",
        "loss_fun = tf.losses.mean_squared_error(label, use_to_predict)\n",
        "optimizer = tf.train.AdamOptimizer(eeta).minimize(loss_fun)\n",
        "correct_classified = tf.equal(tf.cast(tf.round(use_to_predict), tf.int32), label)\n",
        "accuracy = tf.reduce_mean(tf.cast(correct_classified, tf.float32))"
      ],
      "execution_count": 0,
      "outputs": []
    },
    {
      "metadata": {
        "id": "z0kkQ1myF7bj",
        "colab_type": "code",
        "colab": {}
      },
      "cell_type": "code",
      "source": [
        "session = tf.Session()\n",
        "session.run(tf.global_variables_initializer())"
      ],
      "execution_count": 0,
      "outputs": []
    },
    {
      "metadata": {
        "id": "hRkRVxkfGNCN",
        "colab_type": "code",
        "outputId": "de9e78f5-bf8d-4ad6-d6d2-f32c7897fa1d",
        "colab": {
          "base_uri": "https://localhost:8080/",
          "height": 721
        }
      },
      "cell_type": "code",
      "source": [
        "for i in range(epochs):\n",
        "    loss_for_epoch = []\n",
        "    trainAccuracy = []\n",
        "    itera = 0\n",
        "    print(len(features_train))\n",
        "    while itera + len_batch <= len(features_train):\n",
        "        y_batch = train_labels[itera:itera+len_batch].reshape(-1, 1)\n",
        "        X_batch = features_train[itera:itera+len_batch]\n",
        "        a, o, _ = session.run([accuracy, loss_fun, optimizer], feed_dict={inp:X_batch, label:y_batch})\n",
        "        trainAccuracy.append(a)\n",
        "        loss_for_epoch.append(o)\n",
        "        itera += len_batch\n",
        "    print('Epoch number: {}/{}'.format(i, epochs))\n",
        "    print('Loss in this epoch: {}'.format(np.mean(loss_for_epoch)))\n",
        "    print('Training accuracy in this epoch: {:.5}'.format(np.mean(trainAccuracy)*100))"
      ],
      "execution_count": 0,
      "outputs": [
        {
          "output_type": "stream",
          "text": [
            "124848\n",
            "Epoch number: 0/10\n",
            "Loss in this epoch: 1.9477348327636719\n",
            "Training accuracy in this epoch: 17.369\n",
            "124848\n",
            "Epoch number: 1/10\n",
            "Loss in this epoch: 1.9322104454040527\n",
            "Training accuracy in this epoch: 17.41\n",
            "124848\n",
            "Epoch number: 2/10\n",
            "Loss in this epoch: 1.9321941137313843\n",
            "Training accuracy in this epoch: 17.411\n",
            "124848\n",
            "Epoch number: 3/10\n",
            "Loss in this epoch: 1.9321942329406738\n",
            "Training accuracy in this epoch: 17.411\n",
            "124848\n",
            "Epoch number: 4/10\n",
            "Loss in this epoch: 1.9321939945220947\n",
            "Training accuracy in this epoch: 17.411\n",
            "124848\n",
            "Epoch number: 5/10\n",
            "Loss in this epoch: 1.9321939945220947\n",
            "Training accuracy in this epoch: 17.411\n",
            "124848\n",
            "Epoch number: 6/10\n",
            "Loss in this epoch: 1.932193636894226\n",
            "Training accuracy in this epoch: 17.411\n",
            "124848\n",
            "Epoch number: 7/10\n",
            "Loss in this epoch: 1.9322062730789185\n",
            "Training accuracy in this epoch: 17.41\n",
            "124848\n",
            "Epoch number: 8/10\n",
            "Loss in this epoch: 1.932201623916626\n",
            "Training accuracy in this epoch: 17.41\n",
            "124848\n",
            "Epoch number: 9/10\n",
            "Loss in this epoch: 1.9321937561035156\n",
            "Training accuracy in this epoch: 17.411\n"
          ],
          "name": "stdout"
        }
      ]
    },
    {
      "metadata": {
        "id": "Dw-vlcvFGhkn",
        "colab_type": "code",
        "outputId": "002e9972-d140-4878-d405-a9a3826e8ae8",
        "colab": {
          "base_uri": "https://localhost:8080/",
          "height": 34
        }
      },
      "cell_type": "code",
      "source": [
        "test_accuracy = []\n",
        "itera = 0\n",
        "while itera + len_batch <= len(features_test):\n",
        "    X_batch = features_test[itera:itera+len_batch]\n",
        "    y_batch = test_labels[itera:itera+len_batch].reshape(-1, 1)\n",
        "\n",
        "    a = session.run([accuracy], feed_dict={inp:X_batch, label:y_batch})\n",
        "    \n",
        "    test_accuracy.append(a)\n",
        "    itera += len_batch\n",
        "print(\"Test accuracy is {:.5f} %\".format(np.mean(test_accuracy) * 100))"
      ],
      "execution_count": 0,
      "outputs": [
        {
          "output_type": "stream",
          "text": [
            "Test accuracy is 17.78387 %\n"
          ],
          "name": "stdout"
        }
      ]
    }
  ]
}